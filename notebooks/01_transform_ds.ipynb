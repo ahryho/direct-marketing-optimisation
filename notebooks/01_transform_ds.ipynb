{
 "cells": [
  {
   "cell_type": "markdown",
   "id": "015a18d4",
   "metadata": {},
   "source": [
    "## Initial data transformation"
   ]
  },
  {
   "attachments": {},
   "cell_type": "markdown",
   "id": "e807edc6",
   "metadata": {},
   "source": [
    "The script is for merging the initial data frames into one data frame."
   ]
  },
  {
   "attachments": {},
   "cell_type": "markdown",
   "id": "eea26067",
   "metadata": {},
   "source": [
    "1. [Load the data](#load-the-data)\n",
    "2. [Merge the data](#merge-data-frames-and-save)\n",
    "3. [Check the transformed data](#check-the-transformed-data)"
   ]
  },
  {
   "attachments": {},
   "cell_type": "markdown",
   "id": "6632fae9",
   "metadata": {},
   "source": [
    "## Load the data"
   ]
  },
  {
   "cell_type": "code",
   "execution_count": 8,
   "id": "49448889",
   "metadata": {},
   "outputs": [],
   "source": [
    "import pandas as pd\n",
    "\n",
    "ds_fn = \"../data/Task_Data_Scientist_Dataset.xlsx\"\n",
    "df    = pd.ExcelFile(ds_fn)"
   ]
  },
  {
   "cell_type": "markdown",
   "id": "ef7857e0",
   "metadata": {},
   "source": [
    "### 1. Social-demographics data (age, gender, tenure in a bank)"
   ]
  },
  {
   "cell_type": "code",
   "execution_count": 9,
   "id": "98aa2619",
   "metadata": {},
   "outputs": [
    {
     "data": {
      "text/plain": [
       "<bound method NDFrame.keys of       Client Sex  Age  Tenure\n",
       "0        909   M   21      27\n",
       "1       1217   M   38     165\n",
       "2        850   F   49      44\n",
       "3       1473   M   54      34\n",
       "4       1038   M   29     106\n",
       "...      ...  ..  ...     ...\n",
       "1610     409   M   31      91\n",
       "1611     384   M   23     160\n",
       "1612     977   M   46      59\n",
       "1613     629   F   61     173\n",
       "1614    1466   M   63      97\n",
       "\n",
       "[1615 rows x 4 columns]>"
      ]
     },
     "execution_count": 9,
     "metadata": {},
     "output_type": "execute_result"
    }
   ],
   "source": [
    "socio_dem_df = df.parse(df.sheet_names[1])\n",
    "socio_dem_df.keys"
   ]
  },
  {
   "cell_type": "code",
   "execution_count": 10,
   "id": "53e0fab7",
   "metadata": {},
   "outputs": [
    {
     "data": {
      "text/plain": [
       "<bound method NDFrame.keys of        Sex  Age  Tenure\n",
       "Client                 \n",
       "1        F   51       7\n",
       "2        M   43     152\n",
       "3        M   17     140\n",
       "4        M   24     153\n",
       "5        F   58     200\n",
       "...     ..  ...     ...\n",
       "1611     F   41     181\n",
       "1612     M   63     114\n",
       "1613     M   46      45\n",
       "1614     M   48      65\n",
       "1615     M    7     180\n",
       "\n",
       "[1615 rows x 3 columns]>"
      ]
     },
     "execution_count": 10,
     "metadata": {},
     "output_type": "execute_result"
    }
   ],
   "source": [
    "## Re-indexing\n",
    "\n",
    "socio_dem_df.index = socio_dem_df.Client\n",
    "socio_dem_df = socio_dem_df.drop(\"Client\",axis=1).sort_index()\n",
    "\n",
    "socio_dem_df.keys"
   ]
  },
  {
   "cell_type": "code",
   "execution_count": 11,
   "id": "7c8ee940",
   "metadata": {},
   "outputs": [
    {
     "data": {
      "text/plain": [
       "<bound method NDFrame.describe of Client\n",
       "1       0\n",
       "2       1\n",
       "3       1\n",
       "4       1\n",
       "5       0\n",
       "       ..\n",
       "1611    0\n",
       "1612    1\n",
       "1613    1\n",
       "1614    1\n",
       "1615    1\n",
       "Name: Sex, Length: 1615, dtype: int8>"
      ]
     },
     "execution_count": 11,
     "metadata": {},
     "output_type": "execute_result"
    }
   ],
   "source": [
    "## Change 'Sex' from categorical to numerical(F = 0, M = 1)\n",
    "\n",
    "socio_dem_df[\"Sex\"] = pd.Categorical(socio_dem_df[\"Sex\"]).codes \n",
    "\n",
    "socio_dem_df[\"Sex\"].describe"
   ]
  },
  {
   "cell_type": "markdown",
   "id": "9251f31e",
   "metadata": {},
   "source": [
    "### 2.  Products owned + actual volumes (current account, saving account, mutual funds, overdraft, credit card, consumer loan)"
   ]
  },
  {
   "cell_type": "code",
   "execution_count": 12,
   "id": "350873fa",
   "metadata": {},
   "outputs": [
    {
     "data": {
      "text/plain": [
       "<bound method NDFrame.keys of         Count_CA  Count_SA  Count_MF  Count_OVD  Count_CC  Count_CL  \\\n",
       "Client                                                                \n",
       "1              1       NaN       NaN        1.0       NaN       NaN   \n",
       "2              1       1.0       NaN        NaN       NaN       NaN   \n",
       "3              1       NaN       1.0        NaN       NaN       NaN   \n",
       "4              1       1.0       NaN        NaN       1.0       NaN   \n",
       "5              1       1.0       NaN        NaN       NaN       NaN   \n",
       "...          ...       ...       ...        ...       ...       ...   \n",
       "1611           1       NaN       NaN        1.0       NaN       NaN   \n",
       "1612           1       NaN       NaN        1.0       NaN       1.0   \n",
       "1613           1       NaN       NaN        NaN       NaN       NaN   \n",
       "1614           1       NaN       NaN        NaN       NaN       NaN   \n",
       "1615           2       1.0       NaN        1.0       NaN       NaN   \n",
       "\n",
       "          ActBal_CA     ActBal_SA   ActBal_MF  ActBal_OVD    ActBal_CC  \\\n",
       "Client                                                                   \n",
       "1       1333.802857           NaN         NaN         0.0          NaN   \n",
       "2        110.768571  13326.190357         NaN         NaN          NaN   \n",
       "3        482.654643           NaN  107.251786         NaN          NaN   \n",
       "4       1599.840714     76.437143         NaN         NaN  1110.381786   \n",
       "5       5353.483929   8079.715714         NaN         NaN          NaN   \n",
       "...             ...           ...         ...         ...          ...   \n",
       "1611       0.000000           NaN         NaN         0.0          NaN   \n",
       "1612     170.593214           NaN         NaN         0.0          NaN   \n",
       "1613     676.008571           NaN         NaN         NaN          NaN   \n",
       "1614       0.010357           NaN         NaN         NaN          NaN   \n",
       "1615     118.938929    314.047143         NaN         0.0          NaN   \n",
       "\n",
       "        ActBal_CL  \n",
       "Client             \n",
       "1             NaN  \n",
       "2             NaN  \n",
       "3             NaN  \n",
       "4             NaN  \n",
       "5             NaN  \n",
       "...           ...  \n",
       "1611          NaN  \n",
       "1612       6250.0  \n",
       "1613          NaN  \n",
       "1614          NaN  \n",
       "1615          NaN  \n",
       "\n",
       "[1615 rows x 12 columns]>"
      ]
     },
     "execution_count": 12,
     "metadata": {},
     "output_type": "execute_result"
    }
   ],
   "source": [
    "product_df = df.parse(df.sheet_names[2])\n",
    "\n",
    "## re-indexing\n",
    "product_df.index = product_df.Client \n",
    "product_df = product_df.drop(\"Client\",axis = 1).sort_index()\n",
    "\n",
    "## Check the data\n",
    "product_df.keys"
   ]
  },
  {
   "cell_type": "markdown",
   "id": "34e9cd2e",
   "metadata": {},
   "source": [
    "### 3.  Inflow/outflow on C/A, aggregated card turnover (monthly average over past 3 months)"
   ]
  },
  {
   "cell_type": "code",
   "execution_count": 13,
   "id": "75567540",
   "metadata": {},
   "outputs": [
    {
     "data": {
      "text/plain": [
       "<bound method NDFrame.keys of          VolumeCred  VolumeCred_CA  TransactionsCred  TransactionsCred_CA  \\\n",
       "Client                                                                      \n",
       "1       1678.946429    1318.698214                25                   23   \n",
       "2        708.129643     704.935714                 4                    3   \n",
       "3       1607.149643    1607.149643                 4                    4   \n",
       "4       1872.483571    1822.589643                 9                    4   \n",
       "5       4372.773929    2964.290357                23                   14   \n",
       "...             ...            ...               ...                  ...   \n",
       "1611    1029.918571    1029.918571                 3                    3   \n",
       "1612    1310.370714     909.275714                 8                    4   \n",
       "1613    1370.362500    1370.362500                 4                    4   \n",
       "1614     591.216429     591.216429                 3                    3   \n",
       "1615    1497.350000    1497.333214                 5                    4   \n",
       "\n",
       "          VolumeDeb  VolumeDeb_CA  VolumeDebCash_Card  VolumeDebCashless_Card  \\\n",
       "Client                                                                          \n",
       "1       1891.353214   1335.619643          250.000000              283.089286   \n",
       "2        386.442857    386.442857          307.142857               38.407143   \n",
       "3        123.750000    123.750000            0.000000              112.857143   \n",
       "4       3614.747500   3598.950357          714.285714              526.037500   \n",
       "5       5868.460714   4031.925000          157.142857              832.175000   \n",
       "...             ...           ...                 ...                     ...   \n",
       "1611    1104.685714   1104.685714          178.571429               32.142857   \n",
       "1612     955.140000    751.829643          285.714286                0.000000   \n",
       "1613    1283.518929   1283.518929          142.857143              144.022500   \n",
       "1614     527.925714    527.925714          125.000000              167.497143   \n",
       "1615    1877.456071   1877.456071          178.571429                3.884643   \n",
       "\n",
       "        VolumeDeb_PaymentOrder  TransactionsDeb  TransactionsDeb_CA  \\\n",
       "Client                                                                \n",
       "1                   247.607143               50                  30   \n",
       "2                    35.714286                6                   6   \n",
       "3                    10.678571                3                   3   \n",
       "4                  1963.165357               41                  36   \n",
       "5                  1779.571429               44                  41   \n",
       "...                        ...              ...                 ...   \n",
       "1611                890.578571               11                  11   \n",
       "1612                 14.285714               12                   9   \n",
       "1613                353.000000               25                  25   \n",
       "1614                194.178571               15                  15   \n",
       "1615               1694.785714               16                  16   \n",
       "\n",
       "        TransactionsDebCash_Card  TransactionsDebCashless_Card  \\\n",
       "Client                                                           \n",
       "1                              3                            12   \n",
       "2                              2                             2   \n",
       "3                              0                             1   \n",
       "4                              6                            12   \n",
       "5                              4                            17   \n",
       "...                          ...                           ...   \n",
       "1611                           1                             3   \n",
       "1612                           2                             0   \n",
       "1613                           2                            12   \n",
       "1614                           1                             8   \n",
       "1615                           1                             1   \n",
       "\n",
       "        TransactionsDeb_PaymentOrder  \n",
       "Client                                \n",
       "1                                  9  \n",
       "2                                  1  \n",
       "3                                  1  \n",
       "4                                 13  \n",
       "5                                 13  \n",
       "...                              ...  \n",
       "1611                               6  \n",
       "1612                               2  \n",
       "1613                               8  \n",
       "1614                               3  \n",
       "1615                              13  \n",
       "\n",
       "[1587 rows x 14 columns]>"
      ]
     },
     "execution_count": 13,
     "metadata": {},
     "output_type": "execute_result"
    }
   ],
   "source": [
    "in_outflow_df = df.parse(df.sheet_names[3])\n",
    "\n",
    "## Re-indexing\n",
    "in_outflow_df.index = in_outflow_df.Client \n",
    "in_outflow_df = in_outflow_df.drop(\"Client\",axis = 1).sort_index()\n",
    "\n",
    "## Check the data\n",
    "in_outflow_df.keys"
   ]
  },
  {
   "cell_type": "markdown",
   "id": "146e4a23",
   "metadata": {},
   "source": [
    "### 4.  Sales and Revenues"
   ]
  },
  {
   "cell_type": "markdown",
   "id": "86aae02b",
   "metadata": {},
   "source": [
    "For 60 % of clients actual sales + revenues from these are available (training set)"
   ]
  },
  {
   "cell_type": "code",
   "execution_count": 14,
   "id": "a8db8a72",
   "metadata": {},
   "outputs": [
    {
     "data": {
      "text/plain": [
       "<bound method NDFrame.keys of         Sale_MF  Sale_CC  Sale_CL  Revenue_MF  Revenue_CC  Revenue_CL\n",
       "Client                                                               \n",
       "1             1        0        0   26.972679         0.0         0.0\n",
       "2             0        0        0    0.000000         0.0         0.0\n",
       "6             0        0        0    0.000000         0.0         0.0\n",
       "8             0        0        0    0.000000         0.0         0.0\n",
       "13            0        0        0    0.000000         0.0         0.0\n",
       "...         ...      ...      ...         ...         ...         ...\n",
       "1607          0        0        0    0.000000         0.0         0.0\n",
       "1608          0        0        0    0.000000         0.0         0.0\n",
       "1612          0        0        0    0.000000         0.0         0.0\n",
       "1613          1        0        0    2.088571         0.0         0.0\n",
       "1615          0        0        0    0.000000         0.0         0.0\n",
       "\n",
       "[969 rows x 6 columns]>"
      ]
     },
     "execution_count": 14,
     "metadata": {},
     "output_type": "execute_result"
    }
   ],
   "source": [
    "sales_revenue_df = df.parse(df.sheet_names[4])\n",
    "\n",
    "## Re-indexing\n",
    "sales_revenue_df.index = sales_revenue_df.Client \n",
    "sales_revenue_df = sales_revenue_df.drop(\"Client\",axis = 1).sort_index()\n",
    "\n",
    "## Check the data\n",
    "sales_revenue_df.keys"
   ]
  },
  {
   "attachments": {},
   "cell_type": "markdown",
   "id": "a51e6f25",
   "metadata": {},
   "source": [
    "## Merge data frames and save"
   ]
  },
  {
   "cell_type": "code",
   "execution_count": 15,
   "id": "3e8fe395",
   "metadata": {},
   "outputs": [
    {
     "data": {
      "text/plain": [
       "<bound method NDFrame.keys of         Sex  Age  Tenure  Count_CA  Count_SA  Count_MF  Count_OVD  Count_CC  \\\n",
       "Client                                                                        \n",
       "1         0   51       7         1       NaN       NaN        1.0       NaN   \n",
       "2         1   43     152         1       1.0       NaN        NaN       NaN   \n",
       "3         1   17     140         1       NaN       1.0        NaN       NaN   \n",
       "4         1   24     153         1       1.0       NaN        NaN       1.0   \n",
       "5         0   58     200         1       1.0       NaN        NaN       NaN   \n",
       "...     ...  ...     ...       ...       ...       ...        ...       ...   \n",
       "1611      0   41     181         1       NaN       NaN        1.0       NaN   \n",
       "1612      1   63     114         1       NaN       NaN        1.0       NaN   \n",
       "1613      1   46      45         1       NaN       NaN        NaN       NaN   \n",
       "1614      1   48      65         1       NaN       NaN        NaN       NaN   \n",
       "1615      1    7     180         2       1.0       NaN        1.0       NaN   \n",
       "\n",
       "        Count_CL    ActBal_CA  ...  TransactionsDeb_CA  \\\n",
       "Client                         ...                       \n",
       "1            NaN  1333.802857  ...                30.0   \n",
       "2            NaN   110.768571  ...                 6.0   \n",
       "3            NaN   482.654643  ...                 3.0   \n",
       "4            NaN  1599.840714  ...                36.0   \n",
       "5            NaN  5353.483929  ...                41.0   \n",
       "...          ...          ...  ...                 ...   \n",
       "1611         NaN     0.000000  ...                11.0   \n",
       "1612         1.0   170.593214  ...                 9.0   \n",
       "1613         NaN   676.008571  ...                25.0   \n",
       "1614         NaN     0.010357  ...                15.0   \n",
       "1615         NaN   118.938929  ...                16.0   \n",
       "\n",
       "        TransactionsDebCash_Card  TransactionsDebCashless_Card  \\\n",
       "Client                                                           \n",
       "1                            3.0                          12.0   \n",
       "2                            2.0                           2.0   \n",
       "3                            0.0                           1.0   \n",
       "4                            6.0                          12.0   \n",
       "5                            4.0                          17.0   \n",
       "...                          ...                           ...   \n",
       "1611                         1.0                           3.0   \n",
       "1612                         2.0                           0.0   \n",
       "1613                         2.0                          12.0   \n",
       "1614                         1.0                           8.0   \n",
       "1615                         1.0                           1.0   \n",
       "\n",
       "        TransactionsDeb_PaymentOrder  Sale_MF  Sale_CC  Sale_CL  Revenue_MF  \\\n",
       "Client                                                                        \n",
       "1                                9.0      1.0      0.0      0.0   26.972679   \n",
       "2                                1.0      0.0      0.0      0.0    0.000000   \n",
       "3                                1.0      NaN      NaN      NaN         NaN   \n",
       "4                               13.0      NaN      NaN      NaN         NaN   \n",
       "5                               13.0      NaN      NaN      NaN         NaN   \n",
       "...                              ...      ...      ...      ...         ...   \n",
       "1611                             6.0      NaN      NaN      NaN         NaN   \n",
       "1612                             2.0      0.0      0.0      0.0    0.000000   \n",
       "1613                             8.0      1.0      0.0      0.0    2.088571   \n",
       "1614                             3.0      NaN      NaN      NaN         NaN   \n",
       "1615                            13.0      0.0      0.0      0.0    0.000000   \n",
       "\n",
       "        Revenue_CC  Revenue_CL  \n",
       "Client                          \n",
       "1              0.0         0.0  \n",
       "2              0.0         0.0  \n",
       "3              NaN         NaN  \n",
       "4              NaN         NaN  \n",
       "5              NaN         NaN  \n",
       "...            ...         ...  \n",
       "1611           NaN         NaN  \n",
       "1612           0.0         0.0  \n",
       "1613           0.0         0.0  \n",
       "1614           NaN         NaN  \n",
       "1615           0.0         0.0  \n",
       "\n",
       "[1615 rows x 35 columns]>"
      ]
     },
     "execution_count": 15,
     "metadata": {},
     "output_type": "execute_result"
    }
   ],
   "source": [
    "dmo_df = pd.concat([socio_dem_df, product_df, in_outflow_df, sales_revenue_df], axis = 1) # conc along columns\n",
    "dmo_df.keys"
   ]
  },
  {
   "cell_type": "code",
   "execution_count": 16,
   "id": "067fee01",
   "metadata": {},
   "outputs": [],
   "source": [
    "dmo_df.to_csv(\"../data/dmo.csv\", sep = \";\")"
   ]
  },
  {
   "attachments": {},
   "cell_type": "markdown",
   "id": "1d9af271",
   "metadata": {},
   "source": [
    "## Check the transformed data"
   ]
  },
  {
   "cell_type": "code",
   "execution_count": 17,
   "id": "2f560f3b",
   "metadata": {},
   "outputs": [
    {
     "data": {
      "text/plain": [
       "<bound method NDFrame.keys of       Client  Sex  Age  Tenure  Count_CA  Count_SA  Count_MF  Count_OVD  \\\n",
       "0          1    0   51       7         1       NaN       NaN        1.0   \n",
       "1          2    1   43     152         1       1.0       NaN        NaN   \n",
       "2          3    1   17     140         1       NaN       1.0        NaN   \n",
       "3          4    1   24     153         1       1.0       NaN        NaN   \n",
       "4          5    0   58     200         1       1.0       NaN        NaN   \n",
       "...      ...  ...  ...     ...       ...       ...       ...        ...   \n",
       "1610    1611    0   41     181         1       NaN       NaN        1.0   \n",
       "1611    1612    1   63     114         1       NaN       NaN        1.0   \n",
       "1612    1613    1   46      45         1       NaN       NaN        NaN   \n",
       "1613    1614    1   48      65         1       NaN       NaN        NaN   \n",
       "1614    1615    1    7     180         2       1.0       NaN        1.0   \n",
       "\n",
       "      Count_CC  Count_CL  ...  TransactionsDeb_CA  TransactionsDebCash_Card  \\\n",
       "0          NaN       NaN  ...                30.0                       3.0   \n",
       "1          NaN       NaN  ...                 6.0                       2.0   \n",
       "2          NaN       NaN  ...                 3.0                       0.0   \n",
       "3          1.0       NaN  ...                36.0                       6.0   \n",
       "4          NaN       NaN  ...                41.0                       4.0   \n",
       "...        ...       ...  ...                 ...                       ...   \n",
       "1610       NaN       NaN  ...                11.0                       1.0   \n",
       "1611       NaN       1.0  ...                 9.0                       2.0   \n",
       "1612       NaN       NaN  ...                25.0                       2.0   \n",
       "1613       NaN       NaN  ...                15.0                       1.0   \n",
       "1614       NaN       NaN  ...                16.0                       1.0   \n",
       "\n",
       "      TransactionsDebCashless_Card  TransactionsDeb_PaymentOrder  Sale_MF  \\\n",
       "0                             12.0                           9.0      1.0   \n",
       "1                              2.0                           1.0      0.0   \n",
       "2                              1.0                           1.0      NaN   \n",
       "3                             12.0                          13.0      NaN   \n",
       "4                             17.0                          13.0      NaN   \n",
       "...                            ...                           ...      ...   \n",
       "1610                           3.0                           6.0      NaN   \n",
       "1611                           0.0                           2.0      0.0   \n",
       "1612                          12.0                           8.0      1.0   \n",
       "1613                           8.0                           3.0      NaN   \n",
       "1614                           1.0                          13.0      0.0   \n",
       "\n",
       "      Sale_CC  Sale_CL  Revenue_MF  Revenue_CC  Revenue_CL  \n",
       "0         0.0      0.0   26.972679         0.0         0.0  \n",
       "1         0.0      0.0    0.000000         0.0         0.0  \n",
       "2         NaN      NaN         NaN         NaN         NaN  \n",
       "3         NaN      NaN         NaN         NaN         NaN  \n",
       "4         NaN      NaN         NaN         NaN         NaN  \n",
       "...       ...      ...         ...         ...         ...  \n",
       "1610      NaN      NaN         NaN         NaN         NaN  \n",
       "1611      0.0      0.0    0.000000         0.0         0.0  \n",
       "1612      0.0      0.0    2.088571         0.0         0.0  \n",
       "1613      NaN      NaN         NaN         NaN         NaN  \n",
       "1614      0.0      0.0    0.000000         0.0         0.0  \n",
       "\n",
       "[1615 rows x 36 columns]>"
      ]
     },
     "execution_count": 17,
     "metadata": {},
     "output_type": "execute_result"
    }
   ],
   "source": [
    "x = pd.read_csv(\"../data/dmo.csv\", sep=\";\")\n",
    "x.keys"
   ]
  }
 ],
 "metadata": {
  "kernelspec": {
   "display_name": "scikit-learn-course",
   "language": "python",
   "name": "python3"
  },
  "language_info": {
   "codemirror_mode": {
    "name": "ipython",
    "version": 3
   },
   "file_extension": ".py",
   "mimetype": "text/x-python",
   "name": "python",
   "nbconvert_exporter": "python",
   "pygments_lexer": "ipython3",
   "version": "3.10.6"
  },
  "vscode": {
   "interpreter": {
    "hash": "05ffd47356c63b8b1dfc357a4c798785aac92306c5259a8aec5b23f6e77b5d8d"
   }
  }
 },
 "nbformat": 4,
 "nbformat_minor": 5
}
